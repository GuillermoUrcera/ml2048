{
 "cells": [
  {
   "cell_type": "markdown",
   "metadata": {},
   "source": [
    "Below are the *main.py* and *machine.py* scripts\n",
    "\n",
    "- *machine.py* Is our machine object. It contains a game object, which makes interfacing with the game simple. Access to game information and communication is done in the following way:\n",
    "    - The game score is **self.game.score**\n",
    "    - The game matrix is **self.game.matrix**\n",
    "    - Commanding the game is done thought the **self.act()** function. It should return:\n",
    "        - **\"'w'\"** to go up\n",
    "        - **\"'a'\"** to go left\n",
    "        - **\"'s'\"** to go right\n",
    "        - **\"'d'\"** to go down\n",
    "    - The **self.run()** function is an infinite loop that calls for a decision from the machine and tells the game to execute it and update.\n",
    "- *main.py* Is the main project function.\n",
    "\n",
    "**note** Remember you must edit *machine.py* to run the example, **not** the notebook cell!"
   ]
  },
  {
   "cell_type": "code",
   "execution_count": null,
   "metadata": {
    "collapsed": true
   },
   "outputs": [],
   "source": [
    "# %load machine.py\n",
    "import puzzle\n",
    "\n",
    "#ACCESS SCORE AS self.game.score\n",
    "#ACCESS MATRIX AS self.game.matrix\n",
    "#DECIDE ACTION TO TAKE IN act()\n",
    "#POSSIBLE ACTIONS:\n",
    "#\tgo up:\t\t\"'w'\"\n",
    "#\tgo left:\t\"'a'\"\n",
    "#\tgo right:\t\"'s'\"\n",
    "#\tgo down:\t\"'d'\"\n",
    "class Machine:\n",
    "    game=puzzle.GameGrid() #Game object\n",
    "    def run(self):\n",
    "        while True:\n",
    "            #self.game.key_down(\"'w'\") #EXAMPLE UNCOMMENT TO RUN\n",
    "            self.game.key_down(self.act()) #COMMENT TO RUN EXAMPLE\n",
    "            self.game.update_idletasks\n",
    "            self.game.update()\n",
    "    def act(self):\n",
    "        return (\"'z'\") #DOES NOTHING\n",
    "        #PLACEHOLDER\n"
   ]
  },
  {
   "cell_type": "code",
   "execution_count": null,
   "metadata": {
    "collapsed": false
   },
   "outputs": [],
   "source": [
    "# %load main.py\n",
    "import puzzle\n",
    "import machine\n",
    "\n",
    "our_machine=machine.Machine()\n",
    "our_machine.run()\n"
   ]
  },
  {
   "cell_type": "code",
   "execution_count": null,
   "metadata": {
    "collapsed": true
   },
   "outputs": [],
   "source": []
  }
 ],
 "metadata": {
  "kernelspec": {
   "display_name": "Python 3",
   "language": "python",
   "name": "python3"
  },
  "language_info": {
   "codemirror_mode": {
    "name": "ipython",
    "version": 3
   },
   "file_extension": ".py",
   "mimetype": "text/x-python",
   "name": "python",
   "nbconvert_exporter": "python",
   "pygments_lexer": "ipython3",
   "version": "3.6.0"
  }
 },
 "nbformat": 4,
 "nbformat_minor": 2
}
