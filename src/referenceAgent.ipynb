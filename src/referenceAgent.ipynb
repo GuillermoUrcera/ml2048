{
 "cells": [
  {
   "cell_type": "markdown",
   "metadata": {},
   "source": [
    "## Reward function"
   ]
  },
  {
   "cell_type": "code",
   "execution_count": null,
   "metadata": {
    "collapsed": true
   },
   "outputs": [],
   "source": [
    "import puzzle\n",
    "\n",
    "def reward(self):\n",
    "    increment = self.game.increment\n",
    "    totalScore = self.game.totalScore\n",
    "    # loose does not work yet\n",
    "    #loose = self.game.loose\n",
    "    return increment"
   ]
  },
  {
   "cell_type": "markdown",
   "metadata": {},
   "source": [
    "## Neural Network Model"
   ]
  },
  {
   "cell_type": "code",
   "execution_count": null,
   "metadata": {
    "collapsed": true
   },
   "outputs": [],
   "source": [
    "import random\n",
    "import numpy as np\n",
    "from collections import deque\n",
    "from keras.models import Sequential\n",
    "from keras.layers import Dense\n",
    "from keras.optimizers import RMSprop\n",
    "\n",
    "class DQNAgent:\n",
    "    def __init__(self, state_size, action_size):\n",
    "        self.state_size = state_size\n",
    "        self.action_size = action_size\n",
    "        self.memory = deque(maxlen=100000)\n",
    "        self.gamma = 0.9    # discount rate\n",
    "        self.epsilon = 1.0  # exploration rate\n",
    "        self.e_decay = .99\n",
    "        self.e_min = 0.05\n",
    "        self.learning_rate = 0.01\n",
    "        self.model = self._build_model()\n",
    "\n",
    "    def _build_model(self):\n",
    "        # Neural Net for Deep-Q learning Model\n",
    "        model = Sequential()\n",
    "        model.add(Dense(20, input_dim=self.state_size, activation='tanh')) # Adds the first layer with 16 inputs\n",
    "        model.add(Dense(20, activation='tanh', init='uniform')) # Adds Hidden layer with 20 nodes\n",
    "        model.add(Dense(self.action_size, activation='linear')) # Adds output layer with 2 nodes\n",
    "        model.compile(loss='mse',\n",
    "                      optimizer=RMSprop(lr=self.learning_rate)) # Creates the model from all of the above\n",
    "        return model\n",
    "\n",
    "    def remember(self, state, action, reward, next_state, done):\n",
    "        self.memory.append((state, action, reward, next_state, done))\n",
    "\n",
    "    def act(self, state):\n",
    "        if np.random.rand() <= self.epsilon:\n",
    "            return random.randrange(self.action_size)\n",
    "        act_values = self.model.predict(state)\n",
    "        return np.argmax(act_values[0])  # returns action\n",
    "\n",
    "    def replay(self, batch_size):\n",
    "        batch_size = min(batch_size, len(self.memory))\n",
    "        minibatch = random.sample(self.memory, batch_size)\n",
    "        X = np.zeros((batch_size, self.state_size))\n",
    "        Y = np.zeros((batch_size, self.action_size))\n",
    "        for i in range(batch_size):\n",
    "            state, action, reward, next_state, done = minibatch[i]\n",
    "            target = self.model.predict(state)[0]\n",
    "            if done:\n",
    "                target[action] = reward\n",
    "            else:\n",
    "                target[action] = reward + self.gamma * \\\n",
    "                            np.amax(self.model.predict(next_state)[0])\n",
    "            X[i], Y[i] = state, target\n",
    "        self.model.fit(X, Y, batch_size=batch_size, nb_epoch=1, verbose=0)\n",
    "        if self.epsilon > self.e_min:\n",
    "            self.epsilon *= self.e_decay\n",
    "\n",
    "    def load(self, name):\n",
    "        self.model.load_weights(name)\n",
    "\n",
    "    def save(self, name):\n",
    "        self.model.save_weights(name)"
   ]
  },
  {
   "cell_type": "markdown",
   "metadata": {},
   "source": [
    "## Main Game execution"
   ]
  },
  {
   "cell_type": "code",
   "execution_count": null,
   "metadata": {
    "collapsed": true,
    "scrolled": false
   },
   "outputs": [],
   "source": [
    "import time\n",
    "import puzzle\n",
    "import csv\n",
    "from collections import deque\n",
    "from keras.models import Sequential\n",
    "from keras.layers import Dense\n",
    "from keras.optimizers import RMSprop\n",
    "import numpy as np\n",
    "import random\n",
    "\n",
    "MAX_EPISODES = 10\n",
    "\n",
    "#ACCESS SCORE AS self.game.score\n",
    "#ACCESS MATRIX AS self.game.matrix\n",
    "#DECIDE ACTION TO TAKE IN act()\n",
    "#POSSIBLE ACTIONS:\n",
    "#\tgo up:\t\t\"'w'\"\n",
    "#\tgo left:\t\"'a'\"\n",
    "#\tgo right:\t\"'s'\"\n",
    "#\tgo down:\t\"'d'\"\n",
    "\n",
    "class Machine:\n",
    "    game=puzzle.GameGrid() # Game object\n",
    "    epoch=0\n",
    "    episode=0\n",
    "    loss=0\n",
    "    reward=0\n",
    "    action=\"'w'\"\n",
    "    model = Sequential()\n",
    "    inputVector=np.zeros((1, 16))\n",
    "    lastState=np.zeros((1, 16))\n",
    "    Qvalues0=np.zeros((1,4))\n",
    "    Qvalues1=np.zeros((1,4))\n",
    "    acts = [\"'w'\",\"'s'\",\"'d'\",\"'a'\"]\n",
    "    gamma = 0.9    # Discount rate\n",
    "    epsilon = 0.9  # Exploration rate\n",
    "    \n",
    "    def __init__(self):\n",
    "        # Create model\n",
    "        self.model.add(Dense(20, input_dim=16, activation='tanh')) # Adds the first layer with 16 inputs\n",
    "        self.model.add(Dense(20, activation='tanh'))              # Adds Hidden layer with 20 nodes (Removed 'uniform')\n",
    "        self.model.add(Dense(4, activation='linear'))             # Adds output layer with 20 nodes\n",
    "        self.model.compile(loss='mse',optimizer=RMSprop(lr=0.01)) # Creates the model from all of the above\n",
    "        # Initialise log\n",
    "        with open('../logs/log.csv', 'w', newline='') as csvfile:\n",
    "            writer = csv.writer(csvfile)\n",
    "            writer.writerow([\"EPISODE\",\"EPOCH\",\"LAST STATE\",\"ACTION\",\"CURRENT STATE\",\"REWARD\",\"LOSS\",\"TOTAL SCORE\",\"INCREMENT IN SCORE\",\"WEIGHTS\",\"LOST\"]) \n",
    "    def run(self):\n",
    "        # Transform game state to 1D array\n",
    "        for i in range(4):\n",
    "            self.inputVector[0][0+4*i:4+4*i]=self.game.matrix[i]\n",
    "        self.epoch=self.epoch+1 # Increase epoch\n",
    "        self.log() # Log model\n",
    "        self.game.increment=self.get_reward() # Update reward if game has been lost\n",
    "        self.game.key_down(self.act()) # Select action and update weights\n",
    "        self.lastState=self.inputVector # For logging\n",
    "        # Game loop\n",
    "        self.game.update_idletasks\n",
    "        self.game.update()\n",
    "        # pool emaG\n",
    "    def act(self):\n",
    "        if random.random() <= self.epsilon:  # Exploration\n",
    "            print(\" Random Action \")\n",
    "            self.action = self.acts[random.randint(0,3)]\n",
    "            return self.action\n",
    "        else: \n",
    "            # Predict Q values of current state\n",
    "            self.Qvalues1[0]=self.gamma*self.model.predict(self.inputVector)+self.game.increment\n",
    "            # Update weights with respect to last step's prediction of this step's Q values\n",
    "            self.loss=self.model.train_on_batch(self.inputVector, self.Qvalues0)\n",
    "            # Make this step's Q values next step's past Q values\n",
    "            self.Qvalues0=self.Qvalues1\n",
    "            # Select action with highest Q value\n",
    "            self.action=self.acts[self.Qvalues1.argmax()] # Don't delete this variable, it's used when logging\n",
    "            return self.action\n",
    "    def log(self):\n",
    "        # Log episode, epoch, previous state, action, next state, reward, error, score, increment in score, weights, lost\n",
    "        for layer in self.model.layers:\n",
    "            weights = layer.get_weights() # list of numpy arrays\n",
    "        with open('../logs/log.csv', 'a', newline='') as csvfile:\n",
    "            writer = csv.writer(csvfile)\n",
    "            writer.writerow([self.episode,self.epoch,self.lastState,self.action,self.inputVector,self.reward,self.loss,self.game.score,self.game.increment,weights,self.game.result]) \n",
    "    def plot(self):         \n",
    "        with open('../logs/log.csv',newline='') as csvfile:\n",
    "            reader=csv.reader(csvfile)\n",
    "            # Transform reader to array\n",
    "            data=list(reader) \n",
    "            # Allocate arrays\n",
    "            x=[]\n",
    "            y=[]\n",
    "            # Get rid of labels\n",
    "            a=data.pop(0)\n",
    "            for row in data:\n",
    "                # Search for game lost\n",
    "                if row[10]==\"True\": # Needed because it's read as a string and not a bool\n",
    "                    x.append(row[0]) # Episode\n",
    "                    y.append(row[7]) # Total score     \n",
    "            # Plot results\n",
    "            fig, ax = plt.subplots()\n",
    "            ax.plot(x, y)\n",
    "    def get_reward(self):\n",
    "        l=0\n",
    "        if self.game.result: # If the agent lost\n",
    "            l = -2*self.game.increment-self.game.score/4\n",
    "            # Reset game\n",
    "            self.game.reset()\n",
    "            self.epoch=0\n",
    "            self.episode=self.episode+1\n",
    "        self.reward=self.game.increment + l # Don't delete this vriable, it's used for logging\n",
    "        return (self.reward)\n",
    "    \n",
    "    #######################################\n",
    "    # I made this function to calculate the best next step. This will be the function\n",
    "    # Determening which state to be given to the neural network.\n",
    "    # This is a bad implementation since it relies on copying the whole game for every\n",
    "    # calculation, but it will work to train in the beginning. \n",
    "    def calculateNextStep(self, game):\n",
    "        best_qval = 0\n",
    "        best_move = 'up' # Default move\n",
    "        acts = ['up','down','right','left']\n",
    "        for act in acts: \n",
    "            game_copy = game\n",
    "            game_copy.key_down(self.act(act))\n",
    "            self.game.update_idletasks\n",
    "            self.game.update()\n",
    "            qval = game_copy.reward()\n",
    "            if qval > best_qval:\n",
    "                best_qval = qval\n",
    "                best_move = act\n",
    "        return best_move\n",
    "    #######################################\n",
    "        \n",
    "our_machine = Machine()\n",
    "while our_machine.episode<MAX_EPISODES:\n",
    "    our_machine.run()\n",
    "our_machine.plot()"
   ]
  },
  {
   "cell_type": "code",
   "execution_count": null,
   "metadata": {},
   "outputs": [],
   "source": []
  },
  {
   "cell_type": "code",
   "execution_count": null,
   "metadata": {},
   "outputs": [],
   "source": [
    "import numpy as np\n",
    "\n",
    "a=np.array([[1,2,7],[3,4,5]])\n",
    "b=np.array([0,0,0,0,0,0])\n",
    "for i in range(2):\n",
    "    b[0+3*i:3+3*i]=a[i]\n",
    "print(b[b.argmax()])\n",
    "print(b.shape)\n",
    "x_test = np.zeros((1, 16))\n",
    "print(x_test)"
   ]
  },
  {
   "cell_type": "code",
   "execution_count": null,
   "metadata": {
    "collapsed": true
   },
   "outputs": [],
   "source": [
    "import pyqtgraph as pg\n",
    "import numpy as np\n",
    "x = np.arange(1000)\n",
    "y = np.random.normal(size=(3, 1000))\n",
    "plotWidget = pg.plot(title=\"Three plot curves\")\n",
    "for i in range(3):\n",
    "    plotWidget.plot(x, y[i], pen=(i,3))  ## setting pen=(i,3) automaticaly creates three different-colored pens"
   ]
  },
  {
   "cell_type": "code",
   "execution_count": null,
   "metadata": {
    "collapsed": true
   },
   "outputs": [],
   "source": [
    "with open('../logs/test.txt', 'w') as f:\n",
    "    s=\"test\"\n",
    "    f.write(s)\n",
    "    f.write(s)\n",
    "    f.write(s)"
   ]
  },
  {
   "cell_type": "code",
   "execution_count": null,
   "metadata": {
    "collapsed": true
   },
   "outputs": [],
   "source": [
    "import csv\n",
    "with open('../logs/log.csv',newline='') as csvfile:\n",
    "    reader=csv.reader(csvfile)\n",
    "    data=list(reader)\n"
   ]
  },
  {
   "cell_type": "code",
   "execution_count": 1,
   "metadata": {},
   "outputs": [
    {
     "data": {
      "image/png": "[encoded data removed]",
      "text/plain": [
       "<matplotlib.figure.Figure at 0x7f690ab6c470>"
      ]
     },
     "metadata": {},
     "output_type": "display_data"
    }
   ],
   "source": [
    "%matplotlib inline\n",
    "\n",
    "import numpy as np\n",
    "import matplotlib.pyplot as plt\n",
    "import csv\n",
    "\n",
    "with open('../logs/log.csv',newline='') as csvfile:\n",
    "    reader=csv.reader(csvfile)\n",
    "    # Transform reader to array\n",
    "    data=list(reader) \n",
    "    # Allocate arrays\n",
    "    x=[]\n",
    "    y=[]\n",
    "    # Get rid of labels\n",
    "    a=data.pop(0)\n",
    "    for row in data:\n",
    "        # Search for game lost\n",
    "        if row[10]==\"True\": # Needed because it's read as a string and not a bool\n",
    "            x.append(row[0]) # Episode\n",
    "            y.append(row[7]) # Total score     \n",
    "    # Plot results\n",
    "    fig, ax = plt.subplots()\n",
    "    ax.plot(x, y)\n"
   ]
  },
  {
   "cell_type": "code",
   "execution_count": null,
   "metadata": {},
   "outputs": [],
   "source": [
    "import numpy as np\n",
    "\n",
    "x=[[1,2],[3,4],[5,6]]\n",
    "\n",
    "y=np.zeros(len(x))\n",
    "print(y)\n"
   ]
  },
  {
   "cell_type": "code",
   "execution_count": null,
   "metadata": {
    "collapsed": true
   },
   "outputs": [],
   "source": []
  }
 ],
 "metadata": {
  "kernelspec": {
   "display_name": "Python 3",
   "language": "python",
   "name": "python3"
  },
  "language_info": {
   "codemirror_mode": {
    "name": "ipython",
    "version": 3
   },
   "file_extension": ".py",
   "mimetype": "text/x-python",
   "name": "python",
   "nbconvert_exporter": "python",
   "pygments_lexer": "ipython3",
   "version": "3.5.2+"
  }
 },
 "nbformat": 4,
 "nbformat_minor": 2
}
